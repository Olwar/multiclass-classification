{
 "cells": [
  {
   "cell_type": "markdown",
   "id": "2cf6792d",
   "metadata": {},
   "source": [
    "# Multiclass Classification using Logistic Regression and Deep Learning"
   ]
  },
  {
   "cell_type": "markdown",
   "id": "d31de9b4",
   "metadata": {},
   "source": [
    "I have collected 2855 datapoints from BTC/USD using yfinance to collect historical prices and then calculated several technical indicators from those prices using pandas_ta. Let's download that data."
   ]
  },
  {
   "cell_type": "code",
   "execution_count": 384,
   "id": "5a6a5468",
   "metadata": {},
   "outputs": [],
   "source": [
    "import sqlite3\n",
    "import pandas as pd\n",
    "import seaborn as sns\n",
    "import matplotlib.pyplot as plt\n",
    "\n",
    "conn = sqlite3.connect('btc_usd_short_and_long.sqlite')\n",
    "df = pd.read_sql_query(\"SELECT * from prices\", conn)\n",
    "\n"
   ]
  },
  {
   "cell_type": "markdown",
   "id": "c5b514c9",
   "metadata": {},
   "source": [
    "Here we can see the data. There's missing values because all the technical indicators are calculated using several values of the prices, so e.g. rsi starts after 14 \"close\" -prices because of the way it's calculated. We will have to address those missing values of course. The target is when the price has risen over 10% in the last 5 days. We will modify this to be a projection of the future. \n",
    "\n",
    "My plan is to make 10 new lagged features of all the technical indicators. So the model can actually use 10 previous data points instead of just one. Let's make those features first."
   ]
  },
  {
   "cell_type": "code",
   "execution_count": 385,
   "id": "5430e8f4",
   "metadata": {},
   "outputs": [],
   "source": [
    "def make_lags(name, feature, lags):\n",
    "    return pd.concat(\n",
    "    {\n",
    "        f'{name}_lag_{i}': feature.shift(i)\n",
    "        for i in range(1, lags + 1)\n",
    "    },\n",
    "    axis = 1)\n",
    "\n",
    "df = df.join(make_lags(\"pricechg\", df.price_chg, lags=10))\n",
    "df = df.join(make_lags(\"highperc\", df.high_perc, lags=10))\n",
    "df = df.join(make_lags(\"lowperc\", df.low_perc, lags=10))\n",
    "df = df.join(make_lags(\"rsi\", df.rsi, lags=10))"
   ]
  },
  {
   "cell_type": "markdown",
   "id": "a0f97be8",
   "metadata": {},
   "source": [
    "Okay now we got all the lagged features. Then because we want to target to be 5 days in the future, we need to shift the target back 5 days so we can get it in the right row."
   ]
  },
  {
   "cell_type": "code",
   "execution_count": 386,
   "id": "a24f9f15",
   "metadata": {},
   "outputs": [],
   "source": [
    "df['target'] = df['target'].shift(-10)"
   ]
  },
  {
   "cell_type": "code",
   "execution_count": 387,
   "id": "f913fdc3",
   "metadata": {},
   "outputs": [
    {
     "data": {
      "text/plain": [
       "0       2.0\n",
       "1       0.0\n",
       "2       0.0\n",
       "3       0.0\n",
       "4       0.0\n",
       "       ... \n",
       "2859    NaN\n",
       "2860    NaN\n",
       "2861    NaN\n",
       "2862    NaN\n",
       "2863    NaN\n",
       "Name: target, Length: 2864, dtype: float64"
      ]
     },
     "execution_count": 387,
     "metadata": {},
     "output_type": "execute_result"
    }
   ],
   "source": [
    "df.target"
   ]
  },
  {
   "cell_type": "markdown",
   "id": "245b8891",
   "metadata": {},
   "source": [
    "All right great! Now we just have to address the missing values. We will drop all the missing values which is going to align the columns accordingly."
   ]
  },
  {
   "cell_type": "code",
   "execution_count": 388,
   "id": "0ae628b7",
   "metadata": {},
   "outputs": [
    {
     "data": {
      "text/plain": [
       "27      2.0\n",
       "28      0.0\n",
       "29      0.0\n",
       "30      0.0\n",
       "31      2.0\n",
       "       ... \n",
       "2848    0.0\n",
       "2849    0.0\n",
       "2850    0.0\n",
       "2851    0.0\n",
       "2852    1.0\n",
       "Name: target, Length: 2826, dtype: float64"
      ]
     },
     "execution_count": 388,
     "metadata": {},
     "output_type": "execute_result"
    }
   ],
   "source": [
    "df.dropna(inplace=True)\n",
    "df.target"
   ]
  },
  {
   "cell_type": "markdown",
   "id": "7fed1d0a",
   "metadata": {},
   "source": [
    "Let's plot the data first so we know there's nothing wrong here."
   ]
  },
  {
   "cell_type": "markdown",
   "id": "b2a65654",
   "metadata": {},
   "source": [
    "## Now the data is processed, amazing! Now we can actually start modeling!"
   ]
  },
  {
   "cell_type": "markdown",
   "id": "d80cf198",
   "metadata": {},
   "source": [
    "The target is a two-categorical variable: either the price is going to rise over 10% in the next 5 datapoints, which is marked as 1, or it is not which is marked as 0. So this model is going to be a binary classifier.\n",
    "\n",
    "Let's split the data into train and test sets."
   ]
  },
  {
   "cell_type": "code",
   "execution_count": 389,
   "id": "0915e340",
   "metadata": {},
   "outputs": [],
   "source": [
    "from keras.utils import to_categorical\n",
    "\n",
    "X = df.drop([\"name\", \"target\", \"date\", \"id\", \"close\", \"low\", \"high\", \"slowk\", \"slowd\", \"adx\", \"dmp\", \"dmn\"], axis=1)\n",
    "y = df[\"target\"]"
   ]
  },
  {
   "cell_type": "code",
   "execution_count": 390,
   "id": "0d4bf035",
   "metadata": {},
   "outputs": [
    {
     "data": {
      "text/html": [
       "<div>\n",
       "<style scoped>\n",
       "    .dataframe tbody tr th:only-of-type {\n",
       "        vertical-align: middle;\n",
       "    }\n",
       "\n",
       "    .dataframe tbody tr th {\n",
       "        vertical-align: top;\n",
       "    }\n",
       "\n",
       "    .dataframe thead th {\n",
       "        text-align: right;\n",
       "    }\n",
       "</style>\n",
       "<table border=\"1\" class=\"dataframe\">\n",
       "  <thead>\n",
       "    <tr style=\"text-align: right;\">\n",
       "      <th></th>\n",
       "      <th>high_perc</th>\n",
       "      <th>low_perc</th>\n",
       "      <th>price_chg</th>\n",
       "      <th>rsi</th>\n",
       "      <th>pricechg_lag_1</th>\n",
       "      <th>pricechg_lag_2</th>\n",
       "      <th>pricechg_lag_3</th>\n",
       "      <th>pricechg_lag_4</th>\n",
       "      <th>pricechg_lag_5</th>\n",
       "      <th>pricechg_lag_6</th>\n",
       "      <th>...</th>\n",
       "      <th>rsi_lag_1</th>\n",
       "      <th>rsi_lag_2</th>\n",
       "      <th>rsi_lag_3</th>\n",
       "      <th>rsi_lag_4</th>\n",
       "      <th>rsi_lag_5</th>\n",
       "      <th>rsi_lag_6</th>\n",
       "      <th>rsi_lag_7</th>\n",
       "      <th>rsi_lag_8</th>\n",
       "      <th>rsi_lag_9</th>\n",
       "      <th>rsi_lag_10</th>\n",
       "    </tr>\n",
       "  </thead>\n",
       "  <tbody>\n",
       "    <tr>\n",
       "      <th>27</th>\n",
       "      <td>-2.701126</td>\n",
       "      <td>2.381318</td>\n",
       "      <td>2.899003</td>\n",
       "      <td>56.293392</td>\n",
       "      <td>-2.607091</td>\n",
       "      <td>-9.318688</td>\n",
       "      <td>-4.328089</td>\n",
       "      <td>-2.277696</td>\n",
       "      <td>-0.867800</td>\n",
       "      <td>2.966060</td>\n",
       "      <td>...</td>\n",
       "      <td>52.739806</td>\n",
       "      <td>48.311573</td>\n",
       "      <td>41.319059</td>\n",
       "      <td>40.982820</td>\n",
       "      <td>42.033997</td>\n",
       "      <td>36.780528</td>\n",
       "      <td>28.431847</td>\n",
       "      <td>25.082401</td>\n",
       "      <td>19.609190</td>\n",
       "      <td>20.843957</td>\n",
       "    </tr>\n",
       "    <tr>\n",
       "      <th>28</th>\n",
       "      <td>-1.888168</td>\n",
       "      <td>1.521639</td>\n",
       "      <td>1.816846</td>\n",
       "      <td>53.755190</td>\n",
       "      <td>2.899003</td>\n",
       "      <td>-2.607091</td>\n",
       "      <td>-9.318688</td>\n",
       "      <td>-4.328089</td>\n",
       "      <td>-2.277696</td>\n",
       "      <td>-0.867800</td>\n",
       "      <td>...</td>\n",
       "      <td>56.293392</td>\n",
       "      <td>52.739806</td>\n",
       "      <td>48.311573</td>\n",
       "      <td>41.319059</td>\n",
       "      <td>40.982820</td>\n",
       "      <td>42.033997</td>\n",
       "      <td>36.780528</td>\n",
       "      <td>28.431847</td>\n",
       "      <td>25.082401</td>\n",
       "      <td>19.609190</td>\n",
       "    </tr>\n",
       "    <tr>\n",
       "      <th>29</th>\n",
       "      <td>-4.248007</td>\n",
       "      <td>2.479635</td>\n",
       "      <td>4.746696</td>\n",
       "      <td>48.988694</td>\n",
       "      <td>1.816846</td>\n",
       "      <td>2.899003</td>\n",
       "      <td>-2.607091</td>\n",
       "      <td>-9.318688</td>\n",
       "      <td>-4.328089</td>\n",
       "      <td>-2.277696</td>\n",
       "      <td>...</td>\n",
       "      <td>53.755190</td>\n",
       "      <td>56.293392</td>\n",
       "      <td>52.739806</td>\n",
       "      <td>48.311573</td>\n",
       "      <td>41.319059</td>\n",
       "      <td>40.982820</td>\n",
       "      <td>42.033997</td>\n",
       "      <td>36.780528</td>\n",
       "      <td>28.431847</td>\n",
       "      <td>25.082401</td>\n",
       "    </tr>\n",
       "    <tr>\n",
       "      <th>30</th>\n",
       "      <td>-0.448199</td>\n",
       "      <td>2.180798</td>\n",
       "      <td>3.310997</td>\n",
       "      <td>49.463490</td>\n",
       "      <td>4.746696</td>\n",
       "      <td>1.816846</td>\n",
       "      <td>2.899003</td>\n",
       "      <td>-2.607091</td>\n",
       "      <td>-9.318688</td>\n",
       "      <td>-4.328089</td>\n",
       "      <td>...</td>\n",
       "      <td>48.988694</td>\n",
       "      <td>53.755190</td>\n",
       "      <td>56.293392</td>\n",
       "      <td>52.739806</td>\n",
       "      <td>48.311573</td>\n",
       "      <td>41.319059</td>\n",
       "      <td>40.982820</td>\n",
       "      <td>42.033997</td>\n",
       "      <td>36.780528</td>\n",
       "      <td>28.431847</td>\n",
       "    </tr>\n",
       "    <tr>\n",
       "      <th>31</th>\n",
       "      <td>-0.949311</td>\n",
       "      <td>3.185907</td>\n",
       "      <td>-0.958062</td>\n",
       "      <td>52.506761</td>\n",
       "      <td>3.310997</td>\n",
       "      <td>4.746696</td>\n",
       "      <td>1.816846</td>\n",
       "      <td>2.899003</td>\n",
       "      <td>-2.607091</td>\n",
       "      <td>-9.318688</td>\n",
       "      <td>...</td>\n",
       "      <td>49.463490</td>\n",
       "      <td>48.988694</td>\n",
       "      <td>53.755190</td>\n",
       "      <td>56.293392</td>\n",
       "      <td>52.739806</td>\n",
       "      <td>48.311573</td>\n",
       "      <td>41.319059</td>\n",
       "      <td>40.982820</td>\n",
       "      <td>42.033997</td>\n",
       "      <td>36.780528</td>\n",
       "    </tr>\n",
       "    <tr>\n",
       "      <th>...</th>\n",
       "      <td>...</td>\n",
       "      <td>...</td>\n",
       "      <td>...</td>\n",
       "      <td>...</td>\n",
       "      <td>...</td>\n",
       "      <td>...</td>\n",
       "      <td>...</td>\n",
       "      <td>...</td>\n",
       "      <td>...</td>\n",
       "      <td>...</td>\n",
       "      <td>...</td>\n",
       "      <td>...</td>\n",
       "      <td>...</td>\n",
       "      <td>...</td>\n",
       "      <td>...</td>\n",
       "      <td>...</td>\n",
       "      <td>...</td>\n",
       "      <td>...</td>\n",
       "      <td>...</td>\n",
       "      <td>...</td>\n",
       "      <td>...</td>\n",
       "    </tr>\n",
       "    <tr>\n",
       "      <th>2848</th>\n",
       "      <td>-2.205790</td>\n",
       "      <td>4.204448</td>\n",
       "      <td>-1.407329</td>\n",
       "      <td>36.788160</td>\n",
       "      <td>-2.259173</td>\n",
       "      <td>1.258847</td>\n",
       "      <td>0.686613</td>\n",
       "      <td>5.211297</td>\n",
       "      <td>-3.620190</td>\n",
       "      <td>0.536250</td>\n",
       "      <td>...</td>\n",
       "      <td>36.980508</td>\n",
       "      <td>29.173371</td>\n",
       "      <td>28.692001</td>\n",
       "      <td>28.781832</td>\n",
       "      <td>30.465463</td>\n",
       "      <td>31.526433</td>\n",
       "      <td>32.100613</td>\n",
       "      <td>33.562404</td>\n",
       "      <td>34.498310</td>\n",
       "      <td>36.016475</td>\n",
       "    </tr>\n",
       "    <tr>\n",
       "      <th>2849</th>\n",
       "      <td>-0.230108</td>\n",
       "      <td>3.526989</td>\n",
       "      <td>-2.242749</td>\n",
       "      <td>39.726712</td>\n",
       "      <td>-1.407329</td>\n",
       "      <td>-2.259173</td>\n",
       "      <td>1.258847</td>\n",
       "      <td>0.686613</td>\n",
       "      <td>5.211297</td>\n",
       "      <td>-3.620190</td>\n",
       "      <td>...</td>\n",
       "      <td>36.788160</td>\n",
       "      <td>36.980508</td>\n",
       "      <td>29.173371</td>\n",
       "      <td>28.692001</td>\n",
       "      <td>28.781832</td>\n",
       "      <td>30.465463</td>\n",
       "      <td>31.526433</td>\n",
       "      <td>32.100613</td>\n",
       "      <td>33.562404</td>\n",
       "      <td>34.498310</td>\n",
       "    </tr>\n",
       "    <tr>\n",
       "      <th>2850</th>\n",
       "      <td>-0.620349</td>\n",
       "      <td>6.199787</td>\n",
       "      <td>-0.878487</td>\n",
       "      <td>47.692137</td>\n",
       "      <td>-2.242749</td>\n",
       "      <td>-1.407329</td>\n",
       "      <td>-2.259173</td>\n",
       "      <td>1.258847</td>\n",
       "      <td>0.686613</td>\n",
       "      <td>5.211297</td>\n",
       "      <td>...</td>\n",
       "      <td>39.726712</td>\n",
       "      <td>36.788160</td>\n",
       "      <td>36.980508</td>\n",
       "      <td>29.173371</td>\n",
       "      <td>28.692001</td>\n",
       "      <td>28.781832</td>\n",
       "      <td>30.465463</td>\n",
       "      <td>31.526433</td>\n",
       "      <td>32.100613</td>\n",
       "      <td>33.562404</td>\n",
       "    </tr>\n",
       "    <tr>\n",
       "      <th>2851</th>\n",
       "      <td>-2.686582</td>\n",
       "      <td>2.179658</td>\n",
       "      <td>-1.613855</td>\n",
       "      <td>48.323595</td>\n",
       "      <td>-0.878487</td>\n",
       "      <td>-2.242749</td>\n",
       "      <td>-1.407329</td>\n",
       "      <td>-2.259173</td>\n",
       "      <td>1.258847</td>\n",
       "      <td>0.686613</td>\n",
       "      <td>...</td>\n",
       "      <td>47.692137</td>\n",
       "      <td>39.726712</td>\n",
       "      <td>36.788160</td>\n",
       "      <td>36.980508</td>\n",
       "      <td>29.173371</td>\n",
       "      <td>28.692001</td>\n",
       "      <td>28.781832</td>\n",
       "      <td>30.465463</td>\n",
       "      <td>31.526433</td>\n",
       "      <td>32.100613</td>\n",
       "    </tr>\n",
       "    <tr>\n",
       "      <th>2852</th>\n",
       "      <td>-1.319604</td>\n",
       "      <td>0.677328</td>\n",
       "      <td>-2.674501</td>\n",
       "      <td>47.408214</td>\n",
       "      <td>-1.613855</td>\n",
       "      <td>-0.878487</td>\n",
       "      <td>-2.242749</td>\n",
       "      <td>-1.407329</td>\n",
       "      <td>-2.259173</td>\n",
       "      <td>1.258847</td>\n",
       "      <td>...</td>\n",
       "      <td>48.323595</td>\n",
       "      <td>47.692137</td>\n",
       "      <td>39.726712</td>\n",
       "      <td>36.788160</td>\n",
       "      <td>36.980508</td>\n",
       "      <td>29.173371</td>\n",
       "      <td>28.692001</td>\n",
       "      <td>28.781832</td>\n",
       "      <td>30.465463</td>\n",
       "      <td>31.526433</td>\n",
       "    </tr>\n",
       "  </tbody>\n",
       "</table>\n",
       "<p>2826 rows × 44 columns</p>\n",
       "</div>"
      ],
      "text/plain": [
       "      high_perc  low_perc  price_chg        rsi  pricechg_lag_1  \\\n",
       "27    -2.701126  2.381318   2.899003  56.293392       -2.607091   \n",
       "28    -1.888168  1.521639   1.816846  53.755190        2.899003   \n",
       "29    -4.248007  2.479635   4.746696  48.988694        1.816846   \n",
       "30    -0.448199  2.180798   3.310997  49.463490        4.746696   \n",
       "31    -0.949311  3.185907  -0.958062  52.506761        3.310997   \n",
       "...         ...       ...        ...        ...             ...   \n",
       "2848  -2.205790  4.204448  -1.407329  36.788160       -2.259173   \n",
       "2849  -0.230108  3.526989  -2.242749  39.726712       -1.407329   \n",
       "2850  -0.620349  6.199787  -0.878487  47.692137       -2.242749   \n",
       "2851  -2.686582  2.179658  -1.613855  48.323595       -0.878487   \n",
       "2852  -1.319604  0.677328  -2.674501  47.408214       -1.613855   \n",
       "\n",
       "      pricechg_lag_2  pricechg_lag_3  pricechg_lag_4  pricechg_lag_5  \\\n",
       "27         -9.318688       -4.328089       -2.277696       -0.867800   \n",
       "28         -2.607091       -9.318688       -4.328089       -2.277696   \n",
       "29          2.899003       -2.607091       -9.318688       -4.328089   \n",
       "30          1.816846        2.899003       -2.607091       -9.318688   \n",
       "31          4.746696        1.816846        2.899003       -2.607091   \n",
       "...              ...             ...             ...             ...   \n",
       "2848        1.258847        0.686613        5.211297       -3.620190   \n",
       "2849       -2.259173        1.258847        0.686613        5.211297   \n",
       "2850       -1.407329       -2.259173        1.258847        0.686613   \n",
       "2851       -2.242749       -1.407329       -2.259173        1.258847   \n",
       "2852       -0.878487       -2.242749       -1.407329       -2.259173   \n",
       "\n",
       "      pricechg_lag_6  ...  rsi_lag_1  rsi_lag_2  rsi_lag_3  rsi_lag_4  \\\n",
       "27          2.966060  ...  52.739806  48.311573  41.319059  40.982820   \n",
       "28         -0.867800  ...  56.293392  52.739806  48.311573  41.319059   \n",
       "29         -2.277696  ...  53.755190  56.293392  52.739806  48.311573   \n",
       "30         -4.328089  ...  48.988694  53.755190  56.293392  52.739806   \n",
       "31         -9.318688  ...  49.463490  48.988694  53.755190  56.293392   \n",
       "...              ...  ...        ...        ...        ...        ...   \n",
       "2848        0.536250  ...  36.980508  29.173371  28.692001  28.781832   \n",
       "2849       -3.620190  ...  36.788160  36.980508  29.173371  28.692001   \n",
       "2850        5.211297  ...  39.726712  36.788160  36.980508  29.173371   \n",
       "2851        0.686613  ...  47.692137  39.726712  36.788160  36.980508   \n",
       "2852        1.258847  ...  48.323595  47.692137  39.726712  36.788160   \n",
       "\n",
       "      rsi_lag_5  rsi_lag_6  rsi_lag_7  rsi_lag_8  rsi_lag_9  rsi_lag_10  \n",
       "27    42.033997  36.780528  28.431847  25.082401  19.609190   20.843957  \n",
       "28    40.982820  42.033997  36.780528  28.431847  25.082401   19.609190  \n",
       "29    41.319059  40.982820  42.033997  36.780528  28.431847   25.082401  \n",
       "30    48.311573  41.319059  40.982820  42.033997  36.780528   28.431847  \n",
       "31    52.739806  48.311573  41.319059  40.982820  42.033997   36.780528  \n",
       "...         ...        ...        ...        ...        ...         ...  \n",
       "2848  30.465463  31.526433  32.100613  33.562404  34.498310   36.016475  \n",
       "2849  28.781832  30.465463  31.526433  32.100613  33.562404   34.498310  \n",
       "2850  28.692001  28.781832  30.465463  31.526433  32.100613   33.562404  \n",
       "2851  29.173371  28.692001  28.781832  30.465463  31.526433   32.100613  \n",
       "2852  36.980508  29.173371  28.692001  28.781832  30.465463   31.526433  \n",
       "\n",
       "[2826 rows x 44 columns]"
      ]
     },
     "execution_count": 390,
     "metadata": {},
     "output_type": "execute_result"
    }
   ],
   "source": [
    "X"
   ]
  },
  {
   "cell_type": "code",
   "execution_count": 391,
   "id": "c0552b42",
   "metadata": {},
   "outputs": [],
   "source": [
    "from sklearn.model_selection import train_test_split\n",
    "\n",
    "X_train, X_test, y_train, y_test = train_test_split(X, y, test_size=0.3, shuffle=False, random_state=42)"
   ]
  },
  {
   "cell_type": "code",
   "execution_count": 392,
   "id": "eb2f5105",
   "metadata": {},
   "outputs": [
    {
     "data": {
      "text/plain": [
       "Index(['high_perc', 'low_perc', 'price_chg', 'rsi', 'pricechg_lag_1',\n",
       "       'pricechg_lag_2', 'pricechg_lag_3', 'pricechg_lag_4', 'pricechg_lag_5',\n",
       "       'pricechg_lag_6', 'pricechg_lag_7', 'pricechg_lag_8', 'pricechg_lag_9',\n",
       "       'pricechg_lag_10', 'highperc_lag_1', 'highperc_lag_2', 'highperc_lag_3',\n",
       "       'highperc_lag_4', 'highperc_lag_5', 'highperc_lag_6', 'highperc_lag_7',\n",
       "       'highperc_lag_8', 'highperc_lag_9', 'highperc_lag_10', 'lowperc_lag_1',\n",
       "       'lowperc_lag_2', 'lowperc_lag_3', 'lowperc_lag_4', 'lowperc_lag_5',\n",
       "       'lowperc_lag_6', 'lowperc_lag_7', 'lowperc_lag_8', 'lowperc_lag_9',\n",
       "       'lowperc_lag_10', 'rsi_lag_1', 'rsi_lag_2', 'rsi_lag_3', 'rsi_lag_4',\n",
       "       'rsi_lag_5', 'rsi_lag_6', 'rsi_lag_7', 'rsi_lag_8', 'rsi_lag_9',\n",
       "       'rsi_lag_10'],\n",
       "      dtype='object')"
      ]
     },
     "execution_count": 392,
     "metadata": {},
     "output_type": "execute_result"
    }
   ],
   "source": [
    "X_train.columns"
   ]
  },
  {
   "cell_type": "markdown",
   "id": "2459bac4",
   "metadata": {},
   "source": [
    "We will try how a simple logistic regression would fit our data."
   ]
  },
  {
   "cell_type": "code",
   "execution_count": 393,
   "id": "e49a85df",
   "metadata": {},
   "outputs": [],
   "source": [
    "from sklearn.preprocessing import StandardScaler\n",
    "scaler = StandardScaler()\n",
    "X_train_scaled = scaler.fit_transform(X_train)\n",
    "X_test_scaled = scaler.transform(X_test)"
   ]
  },
  {
   "cell_type": "code",
   "execution_count": 394,
   "id": "e9ace5af",
   "metadata": {},
   "outputs": [],
   "source": [
    "from sklearn.linear_model import LogisticRegression\n",
    "\n",
    "model = LogisticRegression(max_iter=100000)\n",
    "model.fit(X_train_scaled, y_train)\n",
    "y_hat_train = model.predict(X_train_scaled)\n",
    "y_hat_test = model.predict(X_test_scaled)"
   ]
  },
  {
   "cell_type": "code",
   "execution_count": 395,
   "id": "33e57ae3",
   "metadata": {},
   "outputs": [
    {
     "name": "stdout",
     "output_type": "stream",
     "text": [
      "0.6582406471183013\n",
      "0.6155660377358491\n"
     ]
    },
    {
     "data": {
      "image/png": "[encoded data removed]",
      "text/plain": [
       "<Figure size 432x288 with 2 Axes>"
      ]
     },
     "metadata": {
      "needs_background": "light"
     },
     "output_type": "display_data"
    }
   ],
   "source": [
    "from sklearn.metrics import accuracy_score\n",
    "from sklearn.metrics import precision_score\n",
    "from sklearn.metrics import confusion_matrix, ConfusionMatrixDisplay\n",
    "\n",
    "print(precision_score(y_train, y_hat_train, average='micro'))\n",
    "print(precision_score(y_test, y_hat_test, average='micro'))\n",
    "\n",
    "cm = confusion_matrix(y_test, y_test_pred)\n",
    "disp = ConfusionMatrixDisplay(confusion_matrix=cm)\n",
    "disp.plot()\n",
    "plt.show()"
   ]
  },
  {
   "cell_type": "code",
   "execution_count": 396,
   "id": "9762c8ed",
   "metadata": {},
   "outputs": [],
   "source": [
    "import keras\n",
    "from tensorflow.keras.optimizers import Adam\n",
    "from tensorflow.keras import regularizers\n",
    "from keras.regularizers import l2\n",
    "from keras.layers.core import Dropout\n",
    "from keras.wrappers.scikit_learn import KerasClassifier"
   ]
  },
  {
   "cell_type": "code",
   "execution_count": 397,
   "id": "038c1fa4",
   "metadata": {},
   "outputs": [],
   "source": [
    "%%capture\n",
    "y_train = to_categorical(y_train)\n",
    "y_test = to_categorical(y_test)\n",
    "\n",
    "opt = Adam(learning_rate=0.001)\n",
    "\n",
    "model = keras.models.Sequential([\n",
    "    keras.layers.Dense(35, activation='relu', input_dim=44, kernel_regularizer=regularizers.L2(0.01)),\n",
    "    keras.layers.Dense(3, activation='softmax')\n",
    "])\n",
    "\n",
    "model.compile(optimizer=opt, loss='categorical_crossentropy', metrics=['Accuracy'])\n",
    "res = model.fit(X_train_scaled, y_train, validation_data = (X_test_scaled, y_test), epochs=30, shuffle=False)"
   ]
  },
  {
   "cell_type": "code",
   "execution_count": 398,
   "id": "a84f5f57",
   "metadata": {},
   "outputs": [
    {
     "name": "stdout",
     "output_type": "stream",
     "text": [
      "62/62 [==============================] - 0s 1ms/step\n",
      "27/27 [==============================] - 0s 948us/step\n"
     ]
    }
   ],
   "source": [
    "import numpy as np\n",
    "\n",
    "y_pred = np.argmax(model.predict(X_train_scaled), axis=1)\n",
    "y_test_pred = np.argmax(model.predict(X_test_scaled), axis=1)\n",
    "y_test = np.argmax(y_test, axis=1)"
   ]
  },
  {
   "cell_type": "markdown",
   "id": "63c9a6f0",
   "metadata": {},
   "source": [
    "Our model is doing better than the logistic regression, that's good news. But the model is clearly overfitting the data. We need to either add more data or regularize our model."
   ]
  },
  {
   "cell_type": "code",
   "execution_count": 399,
   "id": "5e4dc424",
   "metadata": {},
   "outputs": [
    {
     "data": {
      "text/plain": [
       "Text(0, 0.5, 'Loss')"
      ]
     },
     "execution_count": 399,
     "metadata": {},
     "output_type": "execute_result"
    },
    {
     "data": {
      "image/png": "[encoded data removed]",
      "text/plain": [
       "<Figure size 1008x360 with 1 Axes>"
      ]
     },
     "metadata": {
      "needs_background": "light"
     },
     "output_type": "display_data"
    }
   ],
   "source": [
    "plt.figure(figsize=(14,5))\n",
    "sns.lineplot(data=(res.history['loss'], res.history['val_loss']))\n",
    "plt.xlabel('Epoch')\n",
    "plt.ylabel('Loss')"
   ]
  },
  {
   "cell_type": "code",
   "execution_count": 400,
   "id": "69bf53dd",
   "metadata": {},
   "outputs": [
    {
     "data": {
      "image/png": "[encoded data removed]",
      "text/plain": [
       "<Figure size 432x288 with 2 Axes>"
      ]
     },
     "metadata": {
      "needs_background": "light"
     },
     "output_type": "display_data"
    }
   ],
   "source": [
    "cm = confusion_matrix(y_test, y_test_pred)\n",
    "disp = ConfusionMatrixDisplay(confusion_matrix=cm)\n",
    "disp.plot()\n",
    "plt.show()"
   ]
  }
 ],
 "metadata": {
  "kernelspec": {
   "display_name": "Python 3 (ipykernel)",
   "language": "python",
   "name": "python3"
  },
  "language_info": {
   "codemirror_mode": {
    "name": "ipython",
    "version": 3
   },
   "file_extension": ".py",
   "mimetype": "text/x-python",
   "name": "python",
   "nbconvert_exporter": "python",
   "pygments_lexer": "ipython3",
   "version": "3.8.10"
  }
 },
 "nbformat": 4,
 "nbformat_minor": 5
}
